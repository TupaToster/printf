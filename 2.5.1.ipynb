{
 "cells": [
  {
   "cell_type": "code",
   "execution_count": 19,
   "metadata": {},
   "outputs": [],
   "source": [
    "import matplotlib.pyplot as plt\n",
    "import numpy as np"
   ]
  },
  {
   "cell_type": "code",
   "execution_count": 20,
   "metadata": {},
   "outputs": [
    {
     "name": "stdout",
     "output_type": "stream",
     "text": [
      "1.2572552981327498 1.225\n"
     ]
    }
   ],
   "source": [
    "kdp = 0.2 * 9.80665# коеф для получения дваления из dp\n",
    "\n",
    "dpsp = kdp * np.array ([47, 46, 46, 46, 47])\n",
    "\n",
    "d_unreal = 4 * (22.78 + 21.9) / 2 /0.781/ (np.mean (dpsp)) #mm diamemter of needle\n",
    "\n",
    "d = (1.15 + 1.3)/2\n",
    "\n",
    "dh = 0.8 - 2.1 #cm\n",
    "\n",
    "t0 = 25.5 + 273.3\n",
    "t = [273.3 + i for i in [25.5, 35.3, 45.1, 50.1, 55.0]]\n",
    "p1 = [139, 138, 138, 138, 137]\n",
    "p1 = np.array (p1) * kdp\n",
    "\n",
    "p2 = [[206, 204, 204], [202, 201, 201], [197, 198, 197], [195, 196, 196], [194, 195, 194], [191, 191, 191]]\n",
    "\n",
    "print (d_unreal, d)\n"
   ]
  },
  {
   "cell_type": "code",
   "execution_count": null,
   "metadata": {},
   "outputs": [],
   "source": []
  }
 ],
 "metadata": {
  "kernelspec": {
   "display_name": "Python 3",
   "language": "python",
   "name": "python3"
  },
  "language_info": {
   "codemirror_mode": {
    "name": "ipython",
    "version": 3
   },
   "file_extension": ".py",
   "mimetype": "text/x-python",
   "name": "python",
   "nbconvert_exporter": "python",
   "pygments_lexer": "ipython3",
   "version": "3.10.8"
  },
  "orig_nbformat": 4
 },
 "nbformat": 4,
 "nbformat_minor": 2
}
